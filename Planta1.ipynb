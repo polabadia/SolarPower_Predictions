{
 "cells": [
  {
   "cell_type": "code",
   "execution_count": 1,
   "id": "b78a975c",
   "metadata": {},
   "outputs": [],
   "source": [
    "#This data has been gathered at two solar power plants in India over a 34 day period. \n",
    "\n",
    "#It has two pairs of files - each pair has one power generation dataset and one sensor readings dataset. \n",
    "\n",
    "#The power generation datasets are gathered at the inverter level - each inverter has multiple lines of \n",
    "#solar panels attached to it. \n",
    "\n",
    "#The sensor data is gathered at a plant level - single array of sensors optimally placed at the plant.\n",
    "\n"
   ]
  },
  {
   "cell_type": "code",
   "execution_count": 2,
   "id": "67eb83d2",
   "metadata": {},
   "outputs": [],
   "source": [
    "#There are a few areas of concern at the solar power plant -\n",
    "\n",
    "# 1) Can we predict the power generation for next couple of days? - this allows for better grid management\n",
    "# 2) Can we identify the need for panel cleaning/maintenance?\n",
    "# 3) Can we identify faulty or suboptimally performing equipment?"
   ]
  },
  {
   "cell_type": "code",
   "execution_count": 1,
   "id": "f730eb52",
   "metadata": {},
   "outputs": [],
   "source": [
    "import pandas as pd\n",
    "import numpy as np\n",
    "import matplotlib.pyplot as plt\n",
    "from sklearn.model_selection import train_test_split\n",
    "from sklearn.metrics import r2_score, mean_absolute_error, mean_absolute_percentage_error"
   ]
  },
  {
   "cell_type": "raw",
   "id": "3fb7b5ce",
   "metadata": {},
   "source": [
    "Les dades s'han registrat en el curs de 34 dies, unes 795 hores"
   ]
  },
  {
   "cell_type": "code",
   "execution_count": 2,
   "id": "7da5138a",
   "metadata": {
    "scrolled": true
   },
   "outputs": [],
   "source": [
    "df_yield = pd.read_csv(\"Plant_1_Generation_Data.csv\")\n"
   ]
  },
  {
   "cell_type": "code",
   "execution_count": 3,
   "id": "81df7d43",
   "metadata": {},
   "outputs": [
    {
     "name": "stdout",
     "output_type": "stream",
     "text": [
      "DATE_TIME      0\n",
      "PLANT_ID       0\n",
      "SOURCE_KEY     0\n",
      "DC_POWER       0\n",
      "AC_POWER       0\n",
      "DAILY_YIELD    0\n",
      "TOTAL_YIELD    0\n",
      "dtype: int64\n"
     ]
    }
   ],
   "source": [
    "print(np.sum(df_yield.isna(),axis=0))"
   ]
  },
  {
   "cell_type": "code",
   "execution_count": 4,
   "id": "597f3db6",
   "metadata": {},
   "outputs": [],
   "source": [
    "df_weather = pd.read_csv(\"Plant_1_Weather_Sensor_Data.csv\")\n"
   ]
  },
  {
   "cell_type": "code",
   "execution_count": 5,
   "id": "575d7980",
   "metadata": {},
   "outputs": [
    {
     "name": "stdout",
     "output_type": "stream",
     "text": [
      "DATE_TIME              0\n",
      "PLANT_ID               0\n",
      "SOURCE_KEY             0\n",
      "AMBIENT_TEMPERATURE    0\n",
      "MODULE_TEMPERATURE     0\n",
      "IRRADIATION            0\n",
      "dtype: int64\n"
     ]
    }
   ],
   "source": [
    "print(np.sum(df_weather.isna(),axis=0))"
   ]
  },
  {
   "cell_type": "code",
   "execution_count": 6,
   "id": "8cac2644",
   "metadata": {},
   "outputs": [],
   "source": [
    "source_keys = np.unique(df_yield['SOURCE_KEY'])"
   ]
  },
  {
   "cell_type": "code",
   "execution_count": 7,
   "id": "c938d170",
   "metadata": {},
   "outputs": [],
   "source": [
    "# Fem un drop de la columna PLANT_ID als dos datasets"
   ]
  },
  {
   "cell_type": "code",
   "execution_count": 8,
   "id": "5bf035f7",
   "metadata": {},
   "outputs": [],
   "source": [
    "df_yield = df_yield.drop([\"PLANT_ID\"], axis=1)\n",
    "df_weather = df_weather.drop([\"PLANT_ID\",\"SOURCE_KEY\"], axis=1)\n"
   ]
  },
  {
   "cell_type": "code",
   "execution_count": 9,
   "id": "09e34798",
   "metadata": {},
   "outputs": [],
   "source": [
    "inverters_list = [ (df_yield.loc[df_yield['SOURCE_KEY']== inverter]).reset_index() for inverter in source_keys]\n",
    "inverters_list = [inverter.drop(['index'],axis=1) for inverter in inverters_list]\n",
    "\n",
    "for i in range(len(inverters_list)):\n",
    "    inverters_list[i]['DATE_TIME'] = pd.to_datetime(inverters_list[i]['DATE_TIME'])\n",
    "df_weather['DATE_TIME'] = pd.to_datetime(df_weather['DATE_TIME'])\n",
    "\n",
    "inverters_list = [pd.merge(inverter, df_weather, on='DATE_TIME', how='inner') for inverter in inverters_list]\n",
    "\n"
   ]
  },
  {
   "cell_type": "code",
   "execution_count": 10,
   "id": "4ff8458c",
   "metadata": {},
   "outputs": [],
   "source": [
    "#Fem un split del date time en noves columnes pels dies, hores, minuts, etc\n",
    "\n",
    "\n",
    "for i in range(len(inverters_list)):\n",
    "    inverters_list[i]['DAY'] = inverters_list[i]['DATE_TIME'].dt.day\n",
    "    inverters_list[i]['MONTH'] = inverters_list[i]['DATE_TIME'].dt.month\n",
    "    inverters_list[i]['YEAR'] = inverters_list[i]['DATE_TIME'].dt.year\n",
    "    inverters_list[i]['HOUR'] = inverters_list[i]['DATE_TIME'].dt.hour\n",
    "    inverters_list[i]['MINUTE'] = inverters_list[i]['DATE_TIME'].dt.minute\n",
    "    inverters_list[i]['SECOND'] = inverters_list[i]['DATE_TIME'].dt.second\n",
    "    inverters_list[i] = inverters_list[i].drop(['DATE_TIME','SECOND','YEAR'], axis=1)"
   ]
  },
  {
   "cell_type": "code",
   "execution_count": 11,
   "id": "2362b5a3",
   "metadata": {},
   "outputs": [
    {
     "data": {
      "text/html": [
       "<div>\n",
       "<style scoped>\n",
       "    .dataframe tbody tr th:only-of-type {\n",
       "        vertical-align: middle;\n",
       "    }\n",
       "\n",
       "    .dataframe tbody tr th {\n",
       "        vertical-align: top;\n",
       "    }\n",
       "\n",
       "    .dataframe thead th {\n",
       "        text-align: right;\n",
       "    }\n",
       "</style>\n",
       "<table border=\"1\" class=\"dataframe\">\n",
       "  <thead>\n",
       "    <tr style=\"text-align: right;\">\n",
       "      <th></th>\n",
       "      <th>AC_POWER</th>\n",
       "      <th>DAILY_YIELD</th>\n",
       "      <th>TOTAL_YIELD</th>\n",
       "      <th>AMBIENT_TEMPERATURE</th>\n",
       "      <th>MODULE_TEMPERATURE</th>\n",
       "      <th>IRRADIATION</th>\n",
       "      <th>DAY</th>\n",
       "      <th>MONTH</th>\n",
       "      <th>HOUR</th>\n",
       "      <th>MINUTE</th>\n",
       "    </tr>\n",
       "  </thead>\n",
       "  <tbody>\n",
       "    <tr>\n",
       "      <th>0</th>\n",
       "      <td>0.0</td>\n",
       "      <td>0.0</td>\n",
       "      <td>6259559.0</td>\n",
       "      <td>25.184316</td>\n",
       "      <td>22.857507</td>\n",
       "      <td>0.0</td>\n",
       "      <td>15</td>\n",
       "      <td>5</td>\n",
       "      <td>0</td>\n",
       "      <td>0</td>\n",
       "    </tr>\n",
       "    <tr>\n",
       "      <th>1</th>\n",
       "      <td>0.0</td>\n",
       "      <td>0.0</td>\n",
       "      <td>6259559.0</td>\n",
       "      <td>25.084589</td>\n",
       "      <td>22.761668</td>\n",
       "      <td>0.0</td>\n",
       "      <td>15</td>\n",
       "      <td>5</td>\n",
       "      <td>0</td>\n",
       "      <td>15</td>\n",
       "    </tr>\n",
       "    <tr>\n",
       "      <th>2</th>\n",
       "      <td>0.0</td>\n",
       "      <td>0.0</td>\n",
       "      <td>6259559.0</td>\n",
       "      <td>24.935753</td>\n",
       "      <td>22.592306</td>\n",
       "      <td>0.0</td>\n",
       "      <td>15</td>\n",
       "      <td>5</td>\n",
       "      <td>0</td>\n",
       "      <td>30</td>\n",
       "    </tr>\n",
       "    <tr>\n",
       "      <th>3</th>\n",
       "      <td>0.0</td>\n",
       "      <td>0.0</td>\n",
       "      <td>6259559.0</td>\n",
       "      <td>24.846130</td>\n",
       "      <td>22.360852</td>\n",
       "      <td>0.0</td>\n",
       "      <td>15</td>\n",
       "      <td>5</td>\n",
       "      <td>0</td>\n",
       "      <td>45</td>\n",
       "    </tr>\n",
       "    <tr>\n",
       "      <th>4</th>\n",
       "      <td>0.0</td>\n",
       "      <td>0.0</td>\n",
       "      <td>6259559.0</td>\n",
       "      <td>24.621525</td>\n",
       "      <td>22.165423</td>\n",
       "      <td>0.0</td>\n",
       "      <td>15</td>\n",
       "      <td>5</td>\n",
       "      <td>1</td>\n",
       "      <td>0</td>\n",
       "    </tr>\n",
       "    <tr>\n",
       "      <th>...</th>\n",
       "      <td>...</td>\n",
       "      <td>...</td>\n",
       "      <td>...</td>\n",
       "      <td>...</td>\n",
       "      <td>...</td>\n",
       "      <td>...</td>\n",
       "      <td>...</td>\n",
       "      <td>...</td>\n",
       "      <td>...</td>\n",
       "      <td>...</td>\n",
       "    </tr>\n",
       "    <tr>\n",
       "      <th>2094</th>\n",
       "      <td>0.0</td>\n",
       "      <td>5521.0</td>\n",
       "      <td>6485319.0</td>\n",
       "      <td>22.150570</td>\n",
       "      <td>21.480377</td>\n",
       "      <td>0.0</td>\n",
       "      <td>17</td>\n",
       "      <td>6</td>\n",
       "      <td>22</td>\n",
       "      <td>45</td>\n",
       "    </tr>\n",
       "    <tr>\n",
       "      <th>2095</th>\n",
       "      <td>0.0</td>\n",
       "      <td>5521.0</td>\n",
       "      <td>6485319.0</td>\n",
       "      <td>22.129816</td>\n",
       "      <td>21.389024</td>\n",
       "      <td>0.0</td>\n",
       "      <td>17</td>\n",
       "      <td>6</td>\n",
       "      <td>23</td>\n",
       "      <td>0</td>\n",
       "    </tr>\n",
       "    <tr>\n",
       "      <th>2096</th>\n",
       "      <td>0.0</td>\n",
       "      <td>5521.0</td>\n",
       "      <td>6485319.0</td>\n",
       "      <td>22.008275</td>\n",
       "      <td>20.709211</td>\n",
       "      <td>0.0</td>\n",
       "      <td>17</td>\n",
       "      <td>6</td>\n",
       "      <td>23</td>\n",
       "      <td>15</td>\n",
       "    </tr>\n",
       "    <tr>\n",
       "      <th>2097</th>\n",
       "      <td>0.0</td>\n",
       "      <td>5521.0</td>\n",
       "      <td>6485319.0</td>\n",
       "      <td>21.969495</td>\n",
       "      <td>20.734963</td>\n",
       "      <td>0.0</td>\n",
       "      <td>17</td>\n",
       "      <td>6</td>\n",
       "      <td>23</td>\n",
       "      <td>30</td>\n",
       "    </tr>\n",
       "    <tr>\n",
       "      <th>2098</th>\n",
       "      <td>0.0</td>\n",
       "      <td>5521.0</td>\n",
       "      <td>6485319.0</td>\n",
       "      <td>21.909288</td>\n",
       "      <td>20.427972</td>\n",
       "      <td>0.0</td>\n",
       "      <td>17</td>\n",
       "      <td>6</td>\n",
       "      <td>23</td>\n",
       "      <td>45</td>\n",
       "    </tr>\n",
       "  </tbody>\n",
       "</table>\n",
       "<p>2099 rows × 10 columns</p>\n",
       "</div>"
      ],
      "text/plain": [
       "      AC_POWER  DAILY_YIELD  TOTAL_YIELD  AMBIENT_TEMPERATURE  \\\n",
       "0          0.0          0.0    6259559.0            25.184316   \n",
       "1          0.0          0.0    6259559.0            25.084589   \n",
       "2          0.0          0.0    6259559.0            24.935753   \n",
       "3          0.0          0.0    6259559.0            24.846130   \n",
       "4          0.0          0.0    6259559.0            24.621525   \n",
       "...        ...          ...          ...                  ...   \n",
       "2094       0.0       5521.0    6485319.0            22.150570   \n",
       "2095       0.0       5521.0    6485319.0            22.129816   \n",
       "2096       0.0       5521.0    6485319.0            22.008275   \n",
       "2097       0.0       5521.0    6485319.0            21.969495   \n",
       "2098       0.0       5521.0    6485319.0            21.909288   \n",
       "\n",
       "      MODULE_TEMPERATURE  IRRADIATION  DAY  MONTH  HOUR  MINUTE  \n",
       "0              22.857507          0.0   15      5     0       0  \n",
       "1              22.761668          0.0   15      5     0      15  \n",
       "2              22.592306          0.0   15      5     0      30  \n",
       "3              22.360852          0.0   15      5     0      45  \n",
       "4              22.165423          0.0   15      5     1       0  \n",
       "...                  ...          ...  ...    ...   ...     ...  \n",
       "2094           21.480377          0.0   17      6    22      45  \n",
       "2095           21.389024          0.0   17      6    23       0  \n",
       "2096           20.709211          0.0   17      6    23      15  \n",
       "2097           20.734963          0.0   17      6    23      30  \n",
       "2098           20.427972          0.0   17      6    23      45  \n",
       "\n",
       "[2099 rows x 10 columns]"
      ]
     },
     "execution_count": 11,
     "metadata": {},
     "output_type": "execute_result"
    }
   ],
   "source": [
    "first_inverter_df = inverters_list[0]\n",
    "first_inverter_df = first_inverter_df.drop(['SOURCE_KEY','DC_POWER'],axis=1)\n",
    "first_inverter_df"
   ]
  },
  {
   "cell_type": "code",
   "execution_count": 12,
   "id": "9bf9bf93",
   "metadata": {},
   "outputs": [],
   "source": [
    "import xgboost as xgb\n",
    "import math\n",
    "\n",
    "def r2_eval(Y_pred, train_data):\n",
    "    labels = train_data.get_label()\n",
    "    r2 = r2_score(labels, Y_pred)\n",
    "    return 'r2', r2\n",
    "\n",
    "def mae_eval(Y_pred, train_data):\n",
    "    labels = train_data.get_label()\n",
    "    mae = mean_absolute_error(labels, Y_pred)\n",
    "    return 'mae', mae\n",
    "\n",
    "def add_lagged_features(df, num_lags, test_size=0.1):\n",
    "    #Hem fet el shift correctament de tal manera que el test només té valors lagged del train\n",
    "    for i in range(1,num_lags):\n",
    "        df[f'AC_POWER_t{i}'] = df['AC_POWER'].shift(math.floor(test_size*len(df)) + num_lags - i)\n",
    "        df[f'IRRADIATION_t{i}'] = df['IRRADIATION'].shift(math.floor(test_size*len(df)) + num_lags - i)\n",
    "        df[f'AMB_TEMP_t{i}'] = df['AMBIENT_TEMPERATURE'].shift(math.floor(test_size*len(df)) + num_lags - i)\n",
    "        #df[f'MOD_TEMP_t{i}'] = df['MODULE_TEMPERATURE'].shift(math.floor(test_size*len(df)) + num_lags - i)\n",
    "        \n",
    "    return df.dropna()\n",
    "\n",
    "def make_target(df, attribute_name):\n",
    "    Y = df[attribute_name]\n",
    "    return df.drop([attribute_name,'IRRADIATION','AMBIENT_TEMPERATURE','MODULE_TEMPERATURE'],axis=1), Y\n",
    "    \n",
    "\n",
    "lagged_df = add_lagged_features(first_inverter_df,20,0.1)\n",
    "\n",
    "X, Y = make_target(lagged_df, 'AC_POWER')\n",
    "\n"
   ]
  },
  {
   "cell_type": "code",
   "execution_count": 13,
   "id": "2599de73",
   "metadata": {},
   "outputs": [
    {
     "data": {
      "text/plain": [
       "Index(['DAILY_YIELD', 'TOTAL_YIELD', 'DAY', 'MONTH', 'HOUR', 'MINUTE',\n",
       "       'AC_POWER_t1', 'IRRADIATION_t1', 'AMB_TEMP_t1', 'AC_POWER_t2',\n",
       "       'IRRADIATION_t2', 'AMB_TEMP_t2', 'AC_POWER_t3', 'IRRADIATION_t3',\n",
       "       'AMB_TEMP_t3', 'AC_POWER_t4', 'IRRADIATION_t4', 'AMB_TEMP_t4',\n",
       "       'AC_POWER_t5', 'IRRADIATION_t5', 'AMB_TEMP_t5', 'AC_POWER_t6',\n",
       "       'IRRADIATION_t6', 'AMB_TEMP_t6', 'AC_POWER_t7', 'IRRADIATION_t7',\n",
       "       'AMB_TEMP_t7', 'AC_POWER_t8', 'IRRADIATION_t8', 'AMB_TEMP_t8',\n",
       "       'AC_POWER_t9', 'IRRADIATION_t9', 'AMB_TEMP_t9', 'AC_POWER_t10',\n",
       "       'IRRADIATION_t10', 'AMB_TEMP_t10', 'AC_POWER_t11', 'IRRADIATION_t11',\n",
       "       'AMB_TEMP_t11', 'AC_POWER_t12', 'IRRADIATION_t12', 'AMB_TEMP_t12',\n",
       "       'AC_POWER_t13', 'IRRADIATION_t13', 'AMB_TEMP_t13', 'AC_POWER_t14',\n",
       "       'IRRADIATION_t14', 'AMB_TEMP_t14', 'AC_POWER_t15', 'IRRADIATION_t15',\n",
       "       'AMB_TEMP_t15', 'AC_POWER_t16', 'IRRADIATION_t16', 'AMB_TEMP_t16',\n",
       "       'AC_POWER_t17', 'IRRADIATION_t17', 'AMB_TEMP_t17', 'AC_POWER_t18',\n",
       "       'IRRADIATION_t18', 'AMB_TEMP_t18', 'AC_POWER_t19', 'IRRADIATION_t19',\n",
       "       'AMB_TEMP_t19'],\n",
       "      dtype='object')"
      ]
     },
     "execution_count": 13,
     "metadata": {},
     "output_type": "execute_result"
    }
   ],
   "source": [
    "X.keys()"
   ]
  },
  {
   "cell_type": "code",
   "execution_count": 14,
   "id": "f68a231a",
   "metadata": {},
   "outputs": [],
   "source": [
    "X_train, X_test, Y_train, Y_test = train_test_split(X, Y, test_size=0.1, shuffle=False, random_state=42)\n",
    "\n",
    "train_data = xgb.DMatrix(X_train,label = Y_train)\n",
    "test_data = xgb.DMatrix(X_test, label = Y_test)\n",
    "\n",
    "params = {\n",
    "    'max_depth':3,\n",
    "    'eta':0.1,\n",
    "    'objective':'reg:squarederror'\n",
    "}\n"
   ]
  },
  {
   "cell_type": "code",
   "execution_count": 21,
   "id": "8a1792df",
   "metadata": {},
   "outputs": [
    {
     "name": "stdout",
     "output_type": "stream",
     "text": [
      "HOUR               0.753247\n",
      "IRRADIATION_t18    0.048973\n",
      "AC_POWER_t17       0.019950\n",
      "DAILY_YIELD        0.017312\n",
      "IRRADIATION_t10    0.013874\n",
      "                     ...   \n",
      "IRRADIATION_t7     0.000420\n",
      "AC_POWER_t3        0.000375\n",
      "IRRADIATION_t3     0.000343\n",
      "AC_POWER_t14       0.000128\n",
      "MONTH              0.000000\n",
      "Length: 63, dtype: float32\n"
     ]
    }
   ],
   "source": [
    "model = xgb.XGBRegressor()\n",
    "model.fit(X_train, Y_train)\n",
    "\n",
    "Y_train_pred = model.predict(X_train)\n",
    "Y_test_pred = model.predict(X_test)\n",
    "\n",
    "feature_importances = pd.Series(model.feature_importances_, index=X_train.columns)\n",
    "sorted_importances = feature_importances.sort_values(ascending=False)\n",
    "\n",
    "print(sorted_importances)"
   ]
  },
  {
   "cell_type": "code",
   "execution_count": 22,
   "id": "e934aea4",
   "metadata": {},
   "outputs": [
    {
     "name": "stdout",
     "output_type": "stream",
     "text": [
      " Test MAE Score: 73.72500758815566\n",
      "Train MAE Score: 3.586099648615849\n"
     ]
    }
   ],
   "source": [
    "\n",
    "mae = mean_absolute_error(Y_test, Y_test_pred)\n",
    "print(f\" Test MAE Score: {mae}\")\n",
    "\n",
    "mae = mean_absolute_error(Y_train, Y_train_pred)\n",
    "print(f\"Train MAE Score: {mae}\")"
   ]
  },
  {
   "cell_type": "code",
   "execution_count": 23,
   "id": "a55c3a47",
   "metadata": {},
   "outputs": [
    {
     "name": "stdout",
     "output_type": "stream",
     "text": [
      " Test r2 Score: 0.8286482314766418\n",
      "Train r2 Score: 0.999762840456143\n"
     ]
    }
   ],
   "source": [
    "r2 = r2_score(Y_test, Y_test_pred)\n",
    "print(f\" Test r2 Score: {r2}\")\n",
    "\n",
    "r2 = r2_score(Y_train, Y_train_pred)\n",
    "print(f\"Train r2 Score: {r2}\")"
   ]
  },
  {
   "cell_type": "code",
   "execution_count": 24,
   "id": "197a28f7",
   "metadata": {},
   "outputs": [
    {
     "data": {
      "image/png": "[encoded data removed]",
      "text/plain": [
       "<Figure size 432x288 with 1 Axes>"
      ]
     },
     "metadata": {
      "needs_background": "light"
     },
     "output_type": "display_data"
    }
   ],
   "source": [
    "#Valors reals del train vs valors predict del train\n",
    "x = np.arange(1400,1600)\n",
    "plt.scatter(x/4, Y_train[x+228])\n",
    "plt.scatter(x/4, Y_train_pred[x])\n",
    "plt.xlabel('Hours')\n",
    "plt.ylabel('AC power generation (kW)')\n",
    "\n",
    "plt.show()"
   ]
  },
  {
   "cell_type": "code",
   "execution_count": 25,
   "id": "133da9c1",
   "metadata": {
    "scrolled": true
   },
   "outputs": [
    {
     "data": {
      "image/png": "[encoded data removed]",
      "text/plain": [
       "<Figure size 432x288 with 1 Axes>"
      ]
     },
     "metadata": {
      "needs_background": "light"
     },
     "output_type": "display_data"
    },
    {
     "data": {
      "image/png": "[encoded data removed]",
      "text/plain": [
       "<Figure size 432x288 with 1 Axes>"
      ]
     },
     "metadata": {
      "needs_background": "light"
     },
     "output_type": "display_data"
    },
    {
     "data": {
      "image/png": "[encoded data removed]",
      "text/plain": [
       "<Figure size 432x288 with 1 Axes>"
      ]
     },
     "metadata": {
      "needs_background": "light"
     },
     "output_type": "display_data"
    }
   ],
   "source": [
    "#for i in range(0,180,60):\n",
    "x = np.arange(0,60)\n",
    "plt.scatter(x/4, Y_test[x+1911])\n",
    "plt.plot(x/4, Y_test[x+1911], linestyle='-', color='red', alpha=0.7, label='Connected')\n",
    "plt.scatter(x/4,Y_test_pred[x])\n",
    "plt.xlabel('Hours')\n",
    "plt.ylabel('AC power generation (kW)')\n",
    "\n",
    "plt.show()\n",
    "\n",
    "x = np.arange(60,120)\n",
    "plt.scatter(x/4, Y_test[x+1911])\n",
    "plt.plot(x/4, Y_test[x+1911], linestyle='-', color='red', alpha=0.7, label='Connected')\n",
    "plt.scatter(x/4,Y_test_pred[x])\n",
    "plt.xlabel('Hours')\n",
    "plt.ylabel('AC power generation (kW)')\n",
    "\n",
    "plt.show()\n",
    "\n",
    "x = np.arange(120,180)\n",
    "plt.scatter(x/4, Y_test[x+1911])\n",
    "plt.plot(x/4, Y_test[x+1911], linestyle='-', color='red', alpha=0.7, label='Connected')\n",
    "plt.scatter(x/4,Y_test_pred[x])\n",
    "plt.xlabel('Hours')\n",
    "plt.ylabel('AC power generation (kW)')\n",
    "\n",
    "plt.show()"
   ]
  },
  {
   "cell_type": "code",
   "execution_count": 27,
   "id": "c9232bc3",
   "metadata": {},
   "outputs": [
    {
     "name": "stdout",
     "output_type": "stream",
     "text": [
      "0.5589804382544825\n"
     ]
    }
   ],
   "source": [
    "np.set_printoptions(precision=6, suppress=True)\n",
    "\n",
    "#Aqui calculem el MAPE però només quans els valors reals no son 0 perquè sinó ens donaria infinit, \n",
    "#és a dir, només ho calculem quant és de dia, que ve a ser la part que més ens importa\n",
    "\n",
    "mean_rel_err = 0\n",
    "cnt = 0\n",
    "for real, pred in zip(np.array(Y_test),np.array(Y_test_pred)):\n",
    "    if (real != 0):\n",
    "        mean_rel_err += abs(real - pred)/ real\n",
    "        cnt +=1\n",
    "    \n",
    "mean_rel_err = mean_rel_err / cnt\n",
    "print(mean_rel_err)"
   ]
  },
  {
   "cell_type": "raw",
   "id": "add13efa",
   "metadata": {},
   "source": [
    "Amb el millor model amb XGBoost, durant el dia en mitjana ens desviem un 43% del valor real"
   ]
  },
  {
   "cell_type": "code",
   "execution_count": 15,
   "id": "295967c1",
   "metadata": {},
   "outputs": [],
   "source": [
    "from sklearn.ensemble import AdaBoostRegressor\n",
    "from sklearn.tree import DecisionTreeRegressor\n",
    "from sklearn.neural_network import MLPRegressor\n",
    "from sklearn.model_selection import GridSearchCV, TimeSeriesSplit\n",
    "from statsmodels.tsa.statespace.sarimax import SARIMAX\n"
   ]
  },
  {
   "cell_type": "code",
   "execution_count": 22,
   "id": "d73e233c",
   "metadata": {
    "scrolled": true
   },
   "outputs": [
    {
     "name": "stdout",
     "output_type": "stream",
     "text": [
      "Fitting 5 folds for each of 12 candidates, totalling 60 fits\n"
     ]
    },
    {
     "name": "stderr",
     "output_type": "stream",
     "text": [
      "/Users/polabadiaconejos/opt/anaconda3/lib/python3.8/site-packages/sklearn/utils/validation.py:63: DataConversionWarning: A column-vector y was passed when a 1d array was expected. Please change the shape of y to (n_samples, ), for example using ravel().\n",
      "  return f(*args, **kwargs)\n"
     ]
    },
    {
     "name": "stdout",
     "output_type": "stream",
     "text": [
      "[CV] END activation=relu, alpha=0.0001, hidden_layer_sizes=(100, 50, 100), learning_rate=constant; total time=   0.4s\n"
     ]
    },
    {
     "name": "stderr",
     "output_type": "stream",
     "text": [
      "/Users/polabadiaconejos/opt/anaconda3/lib/python3.8/site-packages/sklearn/utils/validation.py:63: DataConversionWarning: A column-vector y was passed when a 1d array was expected. Please change the shape of y to (n_samples, ), for example using ravel().\n",
      "  return f(*args, **kwargs)\n"
     ]
    },
    {
     "name": "stdout",
     "output_type": "stream",
     "text": [
      "[CV] END activation=relu, alpha=0.0001, hidden_layer_sizes=(100, 50, 100), learning_rate=constant; total time=   0.6s\n"
     ]
    },
    {
     "name": "stderr",
     "output_type": "stream",
     "text": [
      "/Users/polabadiaconejos/opt/anaconda3/lib/python3.8/site-packages/sklearn/utils/validation.py:63: DataConversionWarning: A column-vector y was passed when a 1d array was expected. Please change the shape of y to (n_samples, ), for example using ravel().\n",
      "  return f(*args, **kwargs)\n"
     ]
    },
    {
     "name": "stdout",
     "output_type": "stream",
     "text": [
      "[CV] END activation=relu, alpha=0.0001, hidden_layer_sizes=(100, 50, 100), learning_rate=constant; total time=   0.6s\n"
     ]
    },
    {
     "name": "stderr",
     "output_type": "stream",
     "text": [
      "/Users/polabadiaconejos/opt/anaconda3/lib/python3.8/site-packages/sklearn/utils/validation.py:63: DataConversionWarning: A column-vector y was passed when a 1d array was expected. Please change the shape of y to (n_samples, ), for example using ravel().\n",
      "  return f(*args, **kwargs)\n"
     ]
    },
    {
     "name": "stdout",
     "output_type": "stream",
     "text": [
      "[CV] END activation=relu, alpha=0.0001, hidden_layer_sizes=(100, 50, 100), learning_rate=constant; total time=   1.5s\n"
     ]
    },
    {
     "name": "stderr",
     "output_type": "stream",
     "text": [
      "/Users/polabadiaconejos/opt/anaconda3/lib/python3.8/site-packages/sklearn/utils/validation.py:63: DataConversionWarning: A column-vector y was passed when a 1d array was expected. Please change the shape of y to (n_samples, ), for example using ravel().\n",
      "  return f(*args, **kwargs)\n"
     ]
    },
    {
     "name": "stdout",
     "output_type": "stream",
     "text": [
      "[CV] END activation=relu, alpha=0.0001, hidden_layer_sizes=(100, 50, 100), learning_rate=constant; total time=   0.9s\n"
     ]
    },
    {
     "name": "stderr",
     "output_type": "stream",
     "text": [
      "/Users/polabadiaconejos/opt/anaconda3/lib/python3.8/site-packages/sklearn/utils/validation.py:63: DataConversionWarning: A column-vector y was passed when a 1d array was expected. Please change the shape of y to (n_samples, ), for example using ravel().\n",
      "  return f(*args, **kwargs)\n"
     ]
    },
    {
     "name": "stdout",
     "output_type": "stream",
     "text": [
      "[CV] END activation=relu, alpha=0.0001, hidden_layer_sizes=(100, 50, 100), learning_rate=invscaling; total time=   0.6s\n"
     ]
    },
    {
     "name": "stderr",
     "output_type": "stream",
     "text": [
      "/Users/polabadiaconejos/opt/anaconda3/lib/python3.8/site-packages/sklearn/utils/validation.py:63: DataConversionWarning: A column-vector y was passed when a 1d array was expected. Please change the shape of y to (n_samples, ), for example using ravel().\n",
      "  return f(*args, **kwargs)\n"
     ]
    },
    {
     "name": "stdout",
     "output_type": "stream",
     "text": [
      "[CV] END activation=relu, alpha=0.0001, hidden_layer_sizes=(100, 50, 100), learning_rate=invscaling; total time=   0.6s\n"
     ]
    },
    {
     "name": "stderr",
     "output_type": "stream",
     "text": [
      "/Users/polabadiaconejos/opt/anaconda3/lib/python3.8/site-packages/sklearn/utils/validation.py:63: DataConversionWarning: A column-vector y was passed when a 1d array was expected. Please change the shape of y to (n_samples, ), for example using ravel().\n",
      "  return f(*args, **kwargs)\n"
     ]
    },
    {
     "name": "stdout",
     "output_type": "stream",
     "text": [
      "[CV] END activation=relu, alpha=0.0001, hidden_layer_sizes=(100, 50, 100), learning_rate=invscaling; total time=   0.6s\n"
     ]
    },
    {
     "name": "stderr",
     "output_type": "stream",
     "text": [
      "/Users/polabadiaconejos/opt/anaconda3/lib/python3.8/site-packages/sklearn/utils/validation.py:63: DataConversionWarning: A column-vector y was passed when a 1d array was expected. Please change the shape of y to (n_samples, ), for example using ravel().\n",
      "  return f(*args, **kwargs)\n"
     ]
    },
    {
     "name": "stdout",
     "output_type": "stream",
     "text": [
      "[CV] END activation=relu, alpha=0.0001, hidden_layer_sizes=(100, 50, 100), learning_rate=invscaling; total time=   1.2s\n"
     ]
    },
    {
     "name": "stderr",
     "output_type": "stream",
     "text": [
      "/Users/polabadiaconejos/opt/anaconda3/lib/python3.8/site-packages/sklearn/utils/validation.py:63: DataConversionWarning: A column-vector y was passed when a 1d array was expected. Please change the shape of y to (n_samples, ), for example using ravel().\n",
      "  return f(*args, **kwargs)\n"
     ]
    },
    {
     "name": "stdout",
     "output_type": "stream",
     "text": [
      "[CV] END activation=relu, alpha=0.0001, hidden_layer_sizes=(100, 50, 100), learning_rate=invscaling; total time=   0.4s\n"
     ]
    },
    {
     "name": "stderr",
     "output_type": "stream",
     "text": [
      "/Users/polabadiaconejos/opt/anaconda3/lib/python3.8/site-packages/sklearn/utils/validation.py:63: DataConversionWarning: A column-vector y was passed when a 1d array was expected. Please change the shape of y to (n_samples, ), for example using ravel().\n",
      "  return f(*args, **kwargs)\n"
     ]
    },
    {
     "name": "stdout",
     "output_type": "stream",
     "text": [
      "[CV] END activation=relu, alpha=0.0001, hidden_layer_sizes=(100, 50, 100), learning_rate=adaptive; total time=   0.4s\n"
     ]
    },
    {
     "name": "stderr",
     "output_type": "stream",
     "text": [
      "/Users/polabadiaconejos/opt/anaconda3/lib/python3.8/site-packages/sklearn/utils/validation.py:63: DataConversionWarning: A column-vector y was passed when a 1d array was expected. Please change the shape of y to (n_samples, ), for example using ravel().\n",
      "  return f(*args, **kwargs)\n"
     ]
    },
    {
     "name": "stdout",
     "output_type": "stream",
     "text": [
      "[CV] END activation=relu, alpha=0.0001, hidden_layer_sizes=(100, 50, 100), learning_rate=adaptive; total time=   0.6s\n"
     ]
    },
    {
     "name": "stderr",
     "output_type": "stream",
     "text": [
      "/Users/polabadiaconejos/opt/anaconda3/lib/python3.8/site-packages/sklearn/utils/validation.py:63: DataConversionWarning: A column-vector y was passed when a 1d array was expected. Please change the shape of y to (n_samples, ), for example using ravel().\n",
      "  return f(*args, **kwargs)\n"
     ]
    },
    {
     "name": "stdout",
     "output_type": "stream",
     "text": [
      "[CV] END activation=relu, alpha=0.0001, hidden_layer_sizes=(100, 50, 100), learning_rate=adaptive; total time=   0.8s\n"
     ]
    },
    {
     "name": "stderr",
     "output_type": "stream",
     "text": [
      "/Users/polabadiaconejos/opt/anaconda3/lib/python3.8/site-packages/sklearn/utils/validation.py:63: DataConversionWarning: A column-vector y was passed when a 1d array was expected. Please change the shape of y to (n_samples, ), for example using ravel().\n",
      "  return f(*args, **kwargs)\n"
     ]
    },
    {
     "name": "stdout",
     "output_type": "stream",
     "text": [
      "[CV] END activation=relu, alpha=0.0001, hidden_layer_sizes=(100, 50, 100), learning_rate=adaptive; total time=   1.2s\n"
     ]
    },
    {
     "name": "stderr",
     "output_type": "stream",
     "text": [
      "/Users/polabadiaconejos/opt/anaconda3/lib/python3.8/site-packages/sklearn/utils/validation.py:63: DataConversionWarning: A column-vector y was passed when a 1d array was expected. Please change the shape of y to (n_samples, ), for example using ravel().\n",
      "  return f(*args, **kwargs)\n"
     ]
    },
    {
     "name": "stdout",
     "output_type": "stream",
     "text": [
      "[CV] END activation=relu, alpha=0.0001, hidden_layer_sizes=(100, 50, 100), learning_rate=adaptive; total time=   0.7s\n"
     ]
    },
    {
     "name": "stderr",
     "output_type": "stream",
     "text": [
      "/Users/polabadiaconejos/opt/anaconda3/lib/python3.8/site-packages/sklearn/utils/validation.py:63: DataConversionWarning: A column-vector y was passed when a 1d array was expected. Please change the shape of y to (n_samples, ), for example using ravel().\n",
      "  return f(*args, **kwargs)\n"
     ]
    },
    {
     "name": "stdout",
     "output_type": "stream",
     "text": [
      "[CV] END activation=relu, alpha=0.001, hidden_layer_sizes=(100, 50, 100), learning_rate=constant; total time=   0.4s\n"
     ]
    },
    {
     "name": "stderr",
     "output_type": "stream",
     "text": [
      "/Users/polabadiaconejos/opt/anaconda3/lib/python3.8/site-packages/sklearn/utils/validation.py:63: DataConversionWarning: A column-vector y was passed when a 1d array was expected. Please change the shape of y to (n_samples, ), for example using ravel().\n",
      "  return f(*args, **kwargs)\n"
     ]
    },
    {
     "name": "stdout",
     "output_type": "stream",
     "text": [
      "[CV] END activation=relu, alpha=0.001, hidden_layer_sizes=(100, 50, 100), learning_rate=constant; total time=   0.6s\n"
     ]
    },
    {
     "name": "stderr",
     "output_type": "stream",
     "text": [
      "/Users/polabadiaconejos/opt/anaconda3/lib/python3.8/site-packages/sklearn/utils/validation.py:63: DataConversionWarning: A column-vector y was passed when a 1d array was expected. Please change the shape of y to (n_samples, ), for example using ravel().\n",
      "  return f(*args, **kwargs)\n"
     ]
    },
    {
     "name": "stdout",
     "output_type": "stream",
     "text": [
      "[CV] END activation=relu, alpha=0.001, hidden_layer_sizes=(100, 50, 100), learning_rate=constant; total time=   0.8s\n"
     ]
    },
    {
     "name": "stderr",
     "output_type": "stream",
     "text": [
      "/Users/polabadiaconejos/opt/anaconda3/lib/python3.8/site-packages/sklearn/utils/validation.py:63: DataConversionWarning: A column-vector y was passed when a 1d array was expected. Please change the shape of y to (n_samples, ), for example using ravel().\n",
      "  return f(*args, **kwargs)\n"
     ]
    },
    {
     "name": "stdout",
     "output_type": "stream",
     "text": [
      "[CV] END activation=relu, alpha=0.001, hidden_layer_sizes=(100, 50, 100), learning_rate=constant; total time=   1.4s\n"
     ]
    },
    {
     "name": "stderr",
     "output_type": "stream",
     "text": [
      "/Users/polabadiaconejos/opt/anaconda3/lib/python3.8/site-packages/sklearn/utils/validation.py:63: DataConversionWarning: A column-vector y was passed when a 1d array was expected. Please change the shape of y to (n_samples, ), for example using ravel().\n",
      "  return f(*args, **kwargs)\n"
     ]
    },
    {
     "name": "stdout",
     "output_type": "stream",
     "text": [
      "[CV] END activation=relu, alpha=0.001, hidden_layer_sizes=(100, 50, 100), learning_rate=constant; total time=   0.7s\n"
     ]
    },
    {
     "name": "stderr",
     "output_type": "stream",
     "text": [
      "/Users/polabadiaconejos/opt/anaconda3/lib/python3.8/site-packages/sklearn/utils/validation.py:63: DataConversionWarning: A column-vector y was passed when a 1d array was expected. Please change the shape of y to (n_samples, ), for example using ravel().\n",
      "  return f(*args, **kwargs)\n"
     ]
    },
    {
     "name": "stdout",
     "output_type": "stream",
     "text": [
      "[CV] END activation=relu, alpha=0.001, hidden_layer_sizes=(100, 50, 100), learning_rate=invscaling; total time=   0.3s\n"
     ]
    },
    {
     "name": "stderr",
     "output_type": "stream",
     "text": [
      "/Users/polabadiaconejos/opt/anaconda3/lib/python3.8/site-packages/sklearn/utils/validation.py:63: DataConversionWarning: A column-vector y was passed when a 1d array was expected. Please change the shape of y to (n_samples, ), for example using ravel().\n",
      "  return f(*args, **kwargs)\n"
     ]
    },
    {
     "name": "stdout",
     "output_type": "stream",
     "text": [
      "[CV] END activation=relu, alpha=0.001, hidden_layer_sizes=(100, 50, 100), learning_rate=invscaling; total time=   0.5s\n"
     ]
    },
    {
     "name": "stderr",
     "output_type": "stream",
     "text": [
      "/Users/polabadiaconejos/opt/anaconda3/lib/python3.8/site-packages/sklearn/utils/validation.py:63: DataConversionWarning: A column-vector y was passed when a 1d array was expected. Please change the shape of y to (n_samples, ), for example using ravel().\n",
      "  return f(*args, **kwargs)\n"
     ]
    },
    {
     "name": "stdout",
     "output_type": "stream",
     "text": [
      "[CV] END activation=relu, alpha=0.001, hidden_layer_sizes=(100, 50, 100), learning_rate=invscaling; total time=   0.6s\n"
     ]
    },
    {
     "name": "stderr",
     "output_type": "stream",
     "text": [
      "/Users/polabadiaconejos/opt/anaconda3/lib/python3.8/site-packages/sklearn/utils/validation.py:63: DataConversionWarning: A column-vector y was passed when a 1d array was expected. Please change the shape of y to (n_samples, ), for example using ravel().\n",
      "  return f(*args, **kwargs)\n"
     ]
    },
    {
     "name": "stdout",
     "output_type": "stream",
     "text": [
      "[CV] END activation=relu, alpha=0.001, hidden_layer_sizes=(100, 50, 100), learning_rate=invscaling; total time=   1.2s\n"
     ]
    },
    {
     "name": "stderr",
     "output_type": "stream",
     "text": [
      "/Users/polabadiaconejos/opt/anaconda3/lib/python3.8/site-packages/sklearn/utils/validation.py:63: DataConversionWarning: A column-vector y was passed when a 1d array was expected. Please change the shape of y to (n_samples, ), for example using ravel().\n",
      "  return f(*args, **kwargs)\n"
     ]
    },
    {
     "name": "stdout",
     "output_type": "stream",
     "text": [
      "[CV] END activation=relu, alpha=0.001, hidden_layer_sizes=(100, 50, 100), learning_rate=invscaling; total time=   1.0s\n"
     ]
    },
    {
     "name": "stderr",
     "output_type": "stream",
     "text": [
      "/Users/polabadiaconejos/opt/anaconda3/lib/python3.8/site-packages/sklearn/utils/validation.py:63: DataConversionWarning: A column-vector y was passed when a 1d array was expected. Please change the shape of y to (n_samples, ), for example using ravel().\n",
      "  return f(*args, **kwargs)\n"
     ]
    },
    {
     "name": "stdout",
     "output_type": "stream",
     "text": [
      "[CV] END activation=relu, alpha=0.001, hidden_layer_sizes=(100, 50, 100), learning_rate=adaptive; total time=   0.4s\n"
     ]
    },
    {
     "name": "stderr",
     "output_type": "stream",
     "text": [
      "/Users/polabadiaconejos/opt/anaconda3/lib/python3.8/site-packages/sklearn/utils/validation.py:63: DataConversionWarning: A column-vector y was passed when a 1d array was expected. Please change the shape of y to (n_samples, ), for example using ravel().\n",
      "  return f(*args, **kwargs)\n"
     ]
    },
    {
     "name": "stdout",
     "output_type": "stream",
     "text": [
      "[CV] END activation=relu, alpha=0.001, hidden_layer_sizes=(100, 50, 100), learning_rate=adaptive; total time=   0.6s\n"
     ]
    },
    {
     "name": "stderr",
     "output_type": "stream",
     "text": [
      "/Users/polabadiaconejos/opt/anaconda3/lib/python3.8/site-packages/sklearn/utils/validation.py:63: DataConversionWarning: A column-vector y was passed when a 1d array was expected. Please change the shape of y to (n_samples, ), for example using ravel().\n",
      "  return f(*args, **kwargs)\n"
     ]
    },
    {
     "name": "stdout",
     "output_type": "stream",
     "text": [
      "[CV] END activation=relu, alpha=0.001, hidden_layer_sizes=(100, 50, 100), learning_rate=adaptive; total time=   0.8s\n"
     ]
    },
    {
     "name": "stderr",
     "output_type": "stream",
     "text": [
      "/Users/polabadiaconejos/opt/anaconda3/lib/python3.8/site-packages/sklearn/utils/validation.py:63: DataConversionWarning: A column-vector y was passed when a 1d array was expected. Please change the shape of y to (n_samples, ), for example using ravel().\n",
      "  return f(*args, **kwargs)\n"
     ]
    },
    {
     "name": "stdout",
     "output_type": "stream",
     "text": [
      "[CV] END activation=relu, alpha=0.001, hidden_layer_sizes=(100, 50, 100), learning_rate=adaptive; total time=   1.7s\n"
     ]
    },
    {
     "name": "stderr",
     "output_type": "stream",
     "text": [
      "/Users/polabadiaconejos/opt/anaconda3/lib/python3.8/site-packages/sklearn/utils/validation.py:63: DataConversionWarning: A column-vector y was passed when a 1d array was expected. Please change the shape of y to (n_samples, ), for example using ravel().\n",
      "  return f(*args, **kwargs)\n"
     ]
    },
    {
     "name": "stdout",
     "output_type": "stream",
     "text": [
      "[CV] END activation=relu, alpha=0.001, hidden_layer_sizes=(100, 50, 100), learning_rate=adaptive; total time=   0.8s\n"
     ]
    },
    {
     "name": "stderr",
     "output_type": "stream",
     "text": [
      "/Users/polabadiaconejos/opt/anaconda3/lib/python3.8/site-packages/sklearn/utils/validation.py:63: DataConversionWarning: A column-vector y was passed when a 1d array was expected. Please change the shape of y to (n_samples, ), for example using ravel().\n",
      "  return f(*args, **kwargs)\n"
     ]
    },
    {
     "name": "stdout",
     "output_type": "stream",
     "text": [
      "[CV] END activation=tanh, alpha=0.0001, hidden_layer_sizes=(100, 50, 100), learning_rate=constant; total time=   0.5s\n"
     ]
    },
    {
     "name": "stderr",
     "output_type": "stream",
     "text": [
      "/Users/polabadiaconejos/opt/anaconda3/lib/python3.8/site-packages/sklearn/utils/validation.py:63: DataConversionWarning: A column-vector y was passed when a 1d array was expected. Please change the shape of y to (n_samples, ), for example using ravel().\n",
      "  return f(*args, **kwargs)\n"
     ]
    },
    {
     "name": "stdout",
     "output_type": "stream",
     "text": [
      "[CV] END activation=tanh, alpha=0.0001, hidden_layer_sizes=(100, 50, 100), learning_rate=constant; total time=   0.8s\n"
     ]
    },
    {
     "name": "stderr",
     "output_type": "stream",
     "text": [
      "/Users/polabadiaconejos/opt/anaconda3/lib/python3.8/site-packages/sklearn/utils/validation.py:63: DataConversionWarning: A column-vector y was passed when a 1d array was expected. Please change the shape of y to (n_samples, ), for example using ravel().\n",
      "  return f(*args, **kwargs)\n"
     ]
    },
    {
     "name": "stdout",
     "output_type": "stream",
     "text": [
      "[CV] END activation=tanh, alpha=0.0001, hidden_layer_sizes=(100, 50, 100), learning_rate=constant; total time=   0.8s\n"
     ]
    },
    {
     "name": "stderr",
     "output_type": "stream",
     "text": [
      "/Users/polabadiaconejos/opt/anaconda3/lib/python3.8/site-packages/sklearn/utils/validation.py:63: DataConversionWarning: A column-vector y was passed when a 1d array was expected. Please change the shape of y to (n_samples, ), for example using ravel().\n",
      "  return f(*args, **kwargs)\n"
     ]
    },
    {
     "name": "stdout",
     "output_type": "stream",
     "text": [
      "[CV] END activation=tanh, alpha=0.0001, hidden_layer_sizes=(100, 50, 100), learning_rate=constant; total time=   1.3s\n"
     ]
    },
    {
     "name": "stderr",
     "output_type": "stream",
     "text": [
      "/Users/polabadiaconejos/opt/anaconda3/lib/python3.8/site-packages/sklearn/utils/validation.py:63: DataConversionWarning: A column-vector y was passed when a 1d array was expected. Please change the shape of y to (n_samples, ), for example using ravel().\n",
      "  return f(*args, **kwargs)\n"
     ]
    },
    {
     "name": "stdout",
     "output_type": "stream",
     "text": [
      "[CV] END activation=tanh, alpha=0.0001, hidden_layer_sizes=(100, 50, 100), learning_rate=constant; total time=   1.0s\n"
     ]
    },
    {
     "name": "stderr",
     "output_type": "stream",
     "text": [
      "/Users/polabadiaconejos/opt/anaconda3/lib/python3.8/site-packages/sklearn/utils/validation.py:63: DataConversionWarning: A column-vector y was passed when a 1d array was expected. Please change the shape of y to (n_samples, ), for example using ravel().\n",
      "  return f(*args, **kwargs)\n"
     ]
    },
    {
     "name": "stdout",
     "output_type": "stream",
     "text": [
      "[CV] END activation=tanh, alpha=0.0001, hidden_layer_sizes=(100, 50, 100), learning_rate=invscaling; total time=   0.5s\n"
     ]
    },
    {
     "name": "stderr",
     "output_type": "stream",
     "text": [
      "/Users/polabadiaconejos/opt/anaconda3/lib/python3.8/site-packages/sklearn/utils/validation.py:63: DataConversionWarning: A column-vector y was passed when a 1d array was expected. Please change the shape of y to (n_samples, ), for example using ravel().\n",
      "  return f(*args, **kwargs)\n"
     ]
    },
    {
     "name": "stdout",
     "output_type": "stream",
     "text": [
      "[CV] END activation=tanh, alpha=0.0001, hidden_layer_sizes=(100, 50, 100), learning_rate=invscaling; total time=   0.6s\n"
     ]
    },
    {
     "name": "stderr",
     "output_type": "stream",
     "text": [
      "/Users/polabadiaconejos/opt/anaconda3/lib/python3.8/site-packages/sklearn/utils/validation.py:63: DataConversionWarning: A column-vector y was passed when a 1d array was expected. Please change the shape of y to (n_samples, ), for example using ravel().\n",
      "  return f(*args, **kwargs)\n"
     ]
    },
    {
     "name": "stdout",
     "output_type": "stream",
     "text": [
      "[CV] END activation=tanh, alpha=0.0001, hidden_layer_sizes=(100, 50, 100), learning_rate=invscaling; total time=   1.0s\n"
     ]
    },
    {
     "name": "stderr",
     "output_type": "stream",
     "text": [
      "/Users/polabadiaconejos/opt/anaconda3/lib/python3.8/site-packages/sklearn/utils/validation.py:63: DataConversionWarning: A column-vector y was passed when a 1d array was expected. Please change the shape of y to (n_samples, ), for example using ravel().\n",
      "  return f(*args, **kwargs)\n"
     ]
    },
    {
     "name": "stdout",
     "output_type": "stream",
     "text": [
      "[CV] END activation=tanh, alpha=0.0001, hidden_layer_sizes=(100, 50, 100), learning_rate=invscaling; total time=   1.0s\n"
     ]
    },
    {
     "name": "stderr",
     "output_type": "stream",
     "text": [
      "/Users/polabadiaconejos/opt/anaconda3/lib/python3.8/site-packages/sklearn/utils/validation.py:63: DataConversionWarning: A column-vector y was passed when a 1d array was expected. Please change the shape of y to (n_samples, ), for example using ravel().\n",
      "  return f(*args, **kwargs)\n"
     ]
    },
    {
     "name": "stdout",
     "output_type": "stream",
     "text": [
      "[CV] END activation=tanh, alpha=0.0001, hidden_layer_sizes=(100, 50, 100), learning_rate=invscaling; total time=   1.0s\n"
     ]
    },
    {
     "name": "stderr",
     "output_type": "stream",
     "text": [
      "/Users/polabadiaconejos/opt/anaconda3/lib/python3.8/site-packages/sklearn/utils/validation.py:63: DataConversionWarning: A column-vector y was passed when a 1d array was expected. Please change the shape of y to (n_samples, ), for example using ravel().\n",
      "  return f(*args, **kwargs)\n"
     ]
    },
    {
     "name": "stdout",
     "output_type": "stream",
     "text": [
      "[CV] END activation=tanh, alpha=0.0001, hidden_layer_sizes=(100, 50, 100), learning_rate=adaptive; total time=   0.4s\n"
     ]
    },
    {
     "name": "stderr",
     "output_type": "stream",
     "text": [
      "/Users/polabadiaconejos/opt/anaconda3/lib/python3.8/site-packages/sklearn/utils/validation.py:63: DataConversionWarning: A column-vector y was passed when a 1d array was expected. Please change the shape of y to (n_samples, ), for example using ravel().\n",
      "  return f(*args, **kwargs)\n"
     ]
    },
    {
     "name": "stdout",
     "output_type": "stream",
     "text": [
      "[CV] END activation=tanh, alpha=0.0001, hidden_layer_sizes=(100, 50, 100), learning_rate=adaptive; total time=   0.9s\n"
     ]
    },
    {
     "name": "stderr",
     "output_type": "stream",
     "text": [
      "/Users/polabadiaconejos/opt/anaconda3/lib/python3.8/site-packages/sklearn/utils/validation.py:63: DataConversionWarning: A column-vector y was passed when a 1d array was expected. Please change the shape of y to (n_samples, ), for example using ravel().\n",
      "  return f(*args, **kwargs)\n"
     ]
    },
    {
     "name": "stdout",
     "output_type": "stream",
     "text": [
      "[CV] END activation=tanh, alpha=0.0001, hidden_layer_sizes=(100, 50, 100), learning_rate=adaptive; total time=   0.9s\n"
     ]
    },
    {
     "name": "stderr",
     "output_type": "stream",
     "text": [
      "/Users/polabadiaconejos/opt/anaconda3/lib/python3.8/site-packages/sklearn/utils/validation.py:63: DataConversionWarning: A column-vector y was passed when a 1d array was expected. Please change the shape of y to (n_samples, ), for example using ravel().\n",
      "  return f(*args, **kwargs)\n"
     ]
    },
    {
     "name": "stdout",
     "output_type": "stream",
     "text": [
      "[CV] END activation=tanh, alpha=0.0001, hidden_layer_sizes=(100, 50, 100), learning_rate=adaptive; total time=   1.8s\n"
     ]
    },
    {
     "name": "stderr",
     "output_type": "stream",
     "text": [
      "/Users/polabadiaconejos/opt/anaconda3/lib/python3.8/site-packages/sklearn/utils/validation.py:63: DataConversionWarning: A column-vector y was passed when a 1d array was expected. Please change the shape of y to (n_samples, ), for example using ravel().\n",
      "  return f(*args, **kwargs)\n"
     ]
    },
    {
     "name": "stdout",
     "output_type": "stream",
     "text": [
      "[CV] END activation=tanh, alpha=0.0001, hidden_layer_sizes=(100, 50, 100), learning_rate=adaptive; total time=   1.0s\n"
     ]
    },
    {
     "name": "stderr",
     "output_type": "stream",
     "text": [
      "/Users/polabadiaconejos/opt/anaconda3/lib/python3.8/site-packages/sklearn/utils/validation.py:63: DataConversionWarning: A column-vector y was passed when a 1d array was expected. Please change the shape of y to (n_samples, ), for example using ravel().\n",
      "  return f(*args, **kwargs)\n"
     ]
    },
    {
     "name": "stdout",
     "output_type": "stream",
     "text": [
      "[CV] END activation=tanh, alpha=0.001, hidden_layer_sizes=(100, 50, 100), learning_rate=constant; total time=   0.4s\n"
     ]
    },
    {
     "name": "stderr",
     "output_type": "stream",
     "text": [
      "/Users/polabadiaconejos/opt/anaconda3/lib/python3.8/site-packages/sklearn/utils/validation.py:63: DataConversionWarning: A column-vector y was passed when a 1d array was expected. Please change the shape of y to (n_samples, ), for example using ravel().\n",
      "  return f(*args, **kwargs)\n"
     ]
    },
    {
     "name": "stdout",
     "output_type": "stream",
     "text": [
      "[CV] END activation=tanh, alpha=0.001, hidden_layer_sizes=(100, 50, 100), learning_rate=constant; total time=   0.8s\n"
     ]
    },
    {
     "name": "stderr",
     "output_type": "stream",
     "text": [
      "/Users/polabadiaconejos/opt/anaconda3/lib/python3.8/site-packages/sklearn/utils/validation.py:63: DataConversionWarning: A column-vector y was passed when a 1d array was expected. Please change the shape of y to (n_samples, ), for example using ravel().\n",
      "  return f(*args, **kwargs)\n"
     ]
    },
    {
     "name": "stdout",
     "output_type": "stream",
     "text": [
      "[CV] END activation=tanh, alpha=0.001, hidden_layer_sizes=(100, 50, 100), learning_rate=constant; total time=   0.8s\n"
     ]
    },
    {
     "name": "stderr",
     "output_type": "stream",
     "text": [
      "/Users/polabadiaconejos/opt/anaconda3/lib/python3.8/site-packages/sklearn/utils/validation.py:63: DataConversionWarning: A column-vector y was passed when a 1d array was expected. Please change the shape of y to (n_samples, ), for example using ravel().\n",
      "  return f(*args, **kwargs)\n"
     ]
    },
    {
     "name": "stdout",
     "output_type": "stream",
     "text": [
      "[CV] END activation=tanh, alpha=0.001, hidden_layer_sizes=(100, 50, 100), learning_rate=constant; total time=   2.2s\n"
     ]
    },
    {
     "name": "stderr",
     "output_type": "stream",
     "text": [
      "/Users/polabadiaconejos/opt/anaconda3/lib/python3.8/site-packages/sklearn/utils/validation.py:63: DataConversionWarning: A column-vector y was passed when a 1d array was expected. Please change the shape of y to (n_samples, ), for example using ravel().\n",
      "  return f(*args, **kwargs)\n"
     ]
    },
    {
     "name": "stdout",
     "output_type": "stream",
     "text": [
      "[CV] END activation=tanh, alpha=0.001, hidden_layer_sizes=(100, 50, 100), learning_rate=constant; total time=   0.9s\n"
     ]
    },
    {
     "name": "stderr",
     "output_type": "stream",
     "text": [
      "/Users/polabadiaconejos/opt/anaconda3/lib/python3.8/site-packages/sklearn/utils/validation.py:63: DataConversionWarning: A column-vector y was passed when a 1d array was expected. Please change the shape of y to (n_samples, ), for example using ravel().\n",
      "  return f(*args, **kwargs)\n"
     ]
    },
    {
     "name": "stdout",
     "output_type": "stream",
     "text": [
      "[CV] END activation=tanh, alpha=0.001, hidden_layer_sizes=(100, 50, 100), learning_rate=invscaling; total time=   0.4s\n"
     ]
    },
    {
     "name": "stderr",
     "output_type": "stream",
     "text": [
      "/Users/polabadiaconejos/opt/anaconda3/lib/python3.8/site-packages/sklearn/utils/validation.py:63: DataConversionWarning: A column-vector y was passed when a 1d array was expected. Please change the shape of y to (n_samples, ), for example using ravel().\n",
      "  return f(*args, **kwargs)\n"
     ]
    },
    {
     "name": "stdout",
     "output_type": "stream",
     "text": [
      "[CV] END activation=tanh, alpha=0.001, hidden_layer_sizes=(100, 50, 100), learning_rate=invscaling; total time=   0.4s\n"
     ]
    },
    {
     "name": "stderr",
     "output_type": "stream",
     "text": [
      "/Users/polabadiaconejos/opt/anaconda3/lib/python3.8/site-packages/sklearn/utils/validation.py:63: DataConversionWarning: A column-vector y was passed when a 1d array was expected. Please change the shape of y to (n_samples, ), for example using ravel().\n",
      "  return f(*args, **kwargs)\n"
     ]
    },
    {
     "name": "stdout",
     "output_type": "stream",
     "text": [
      "[CV] END activation=tanh, alpha=0.001, hidden_layer_sizes=(100, 50, 100), learning_rate=invscaling; total time=   1.2s\n"
     ]
    },
    {
     "name": "stderr",
     "output_type": "stream",
     "text": [
      "/Users/polabadiaconejos/opt/anaconda3/lib/python3.8/site-packages/sklearn/utils/validation.py:63: DataConversionWarning: A column-vector y was passed when a 1d array was expected. Please change the shape of y to (n_samples, ), for example using ravel().\n",
      "  return f(*args, **kwargs)\n"
     ]
    },
    {
     "name": "stdout",
     "output_type": "stream",
     "text": [
      "[CV] END activation=tanh, alpha=0.001, hidden_layer_sizes=(100, 50, 100), learning_rate=invscaling; total time=   1.4s\n"
     ]
    },
    {
     "name": "stderr",
     "output_type": "stream",
     "text": [
      "/Users/polabadiaconejos/opt/anaconda3/lib/python3.8/site-packages/sklearn/utils/validation.py:63: DataConversionWarning: A column-vector y was passed when a 1d array was expected. Please change the shape of y to (n_samples, ), for example using ravel().\n",
      "  return f(*args, **kwargs)\n"
     ]
    },
    {
     "name": "stdout",
     "output_type": "stream",
     "text": [
      "[CV] END activation=tanh, alpha=0.001, hidden_layer_sizes=(100, 50, 100), learning_rate=invscaling; total time=   1.3s\n"
     ]
    },
    {
     "name": "stderr",
     "output_type": "stream",
     "text": [
      "/Users/polabadiaconejos/opt/anaconda3/lib/python3.8/site-packages/sklearn/utils/validation.py:63: DataConversionWarning: A column-vector y was passed when a 1d array was expected. Please change the shape of y to (n_samples, ), for example using ravel().\n",
      "  return f(*args, **kwargs)\n"
     ]
    },
    {
     "name": "stdout",
     "output_type": "stream",
     "text": [
      "[CV] END activation=tanh, alpha=0.001, hidden_layer_sizes=(100, 50, 100), learning_rate=adaptive; total time=   0.5s\n"
     ]
    },
    {
     "name": "stderr",
     "output_type": "stream",
     "text": [
      "/Users/polabadiaconejos/opt/anaconda3/lib/python3.8/site-packages/sklearn/utils/validation.py:63: DataConversionWarning: A column-vector y was passed when a 1d array was expected. Please change the shape of y to (n_samples, ), for example using ravel().\n",
      "  return f(*args, **kwargs)\n"
     ]
    },
    {
     "name": "stdout",
     "output_type": "stream",
     "text": [
      "[CV] END activation=tanh, alpha=0.001, hidden_layer_sizes=(100, 50, 100), learning_rate=adaptive; total time=   0.6s\n"
     ]
    },
    {
     "name": "stderr",
     "output_type": "stream",
     "text": [
      "/Users/polabadiaconejos/opt/anaconda3/lib/python3.8/site-packages/sklearn/utils/validation.py:63: DataConversionWarning: A column-vector y was passed when a 1d array was expected. Please change the shape of y to (n_samples, ), for example using ravel().\n",
      "  return f(*args, **kwargs)\n"
     ]
    },
    {
     "name": "stdout",
     "output_type": "stream",
     "text": [
      "[CV] END activation=tanh, alpha=0.001, hidden_layer_sizes=(100, 50, 100), learning_rate=adaptive; total time=   0.7s\n"
     ]
    },
    {
     "name": "stderr",
     "output_type": "stream",
     "text": [
      "/Users/polabadiaconejos/opt/anaconda3/lib/python3.8/site-packages/sklearn/utils/validation.py:63: DataConversionWarning: A column-vector y was passed when a 1d array was expected. Please change the shape of y to (n_samples, ), for example using ravel().\n",
      "  return f(*args, **kwargs)\n"
     ]
    },
    {
     "name": "stdout",
     "output_type": "stream",
     "text": [
      "[CV] END activation=tanh, alpha=0.001, hidden_layer_sizes=(100, 50, 100), learning_rate=adaptive; total time=   1.5s\n"
     ]
    },
    {
     "name": "stderr",
     "output_type": "stream",
     "text": [
      "/Users/polabadiaconejos/opt/anaconda3/lib/python3.8/site-packages/sklearn/utils/validation.py:63: DataConversionWarning: A column-vector y was passed when a 1d array was expected. Please change the shape of y to (n_samples, ), for example using ravel().\n",
      "  return f(*args, **kwargs)\n"
     ]
    },
    {
     "name": "stdout",
     "output_type": "stream",
     "text": [
      "[CV] END activation=tanh, alpha=0.001, hidden_layer_sizes=(100, 50, 100), learning_rate=adaptive; total time=   0.9s\n"
     ]
    },
    {
     "name": "stderr",
     "output_type": "stream",
     "text": [
      "/Users/polabadiaconejos/opt/anaconda3/lib/python3.8/site-packages/sklearn/utils/validation.py:63: DataConversionWarning: A column-vector y was passed when a 1d array was expected. Please change the shape of y to (n_samples, ), for example using ravel().\n",
      "  return f(*args, **kwargs)\n"
     ]
    }
   ],
   "source": [
    "from sklearn.preprocessing import StandardScaler\n",
    "\n",
    "sc = StandardScaler()\n",
    "X_train_norm = sc.fit_transform(X_train)\n",
    "X_test_norm = sc.fit_transform(X_test)\n",
    "Y_train_norm = sc.fit_transform(np.array(Y_train).reshape(-1,1))\n",
    "#Y_test_norm = sc.fit_transform(np.array(Y_test).reshape(-1,1))\n",
    "\n",
    "\n",
    "dt_regressor = DecisionTreeRegressor(max_depth=15,min_samples_split=5,min_samples_leaf=4)\n",
    "\n",
    "models = { #'AdaBoostRegressor':\n",
    "          #{'model': AdaBoostRegressor(base_estimator=dt_regressor),'params': \n",
    "           #{'n_estimators':[150,200,300,400],'learning_rate': [0.01,0.1,1,2],'loss':['linear','square','exponential']}},\n",
    "          \n",
    "           #'XGBoost':\n",
    "          #{'model':xgb.XGBRegressor(),'params':\n",
    "           #{'n_estimators': [50, 100, 150,400],'learning_rate': [0.01, 0.1, 1],'max_depth': [10,15,20,35]}},\n",
    "          \n",
    "           'MLPRegressor': \n",
    "          {'model': MLPRegressor(max_iter=2000),'params':\n",
    "           {'hidden_layer_sizes': [(100,50,100)],'activation':['relu','tanh'],'alpha':[0.0001, 0.001],\n",
    "            'learning_rate':['constant', 'invscaling', 'adaptive']}}\n",
    "        \n",
    "         }\n",
    "\n",
    "best_models = {}\n",
    "#ATENCIÓ: això pot trigar varios (molts) minuts en executar-se\n",
    "for model_name, model_params in models.items():\n",
    "    time_series_cv = TimeSeriesSplit(n_splits=5)\n",
    "    reg = GridSearchCV(model_params['model'], model_params['params'], cv=time_series_cv, return_train_score=False,verbose=2)\n",
    "    reg.fit(X_train_norm, Y_train_norm)\n",
    "    best_models[model_name] = {'model':reg.best_estimator_ ,'params':reg.best_params_ ,'score':reg.best_score_ }\n"
   ]
  },
  {
   "cell_type": "code",
   "execution_count": 23,
   "id": "07d8a538",
   "metadata": {},
   "outputs": [
    {
     "name": "stdout",
     "output_type": "stream",
     "text": [
      "MLPRegressor  amb paràmetres  {'activation': 'tanh', 'alpha': 0.001, 'hidden_layer_sizes': (100, 50, 100), 'learning_rate': 'adaptive'}  té un score de  0.08070944860494747\n"
     ]
    }
   ],
   "source": [
    "#Score dels models segons GridSearch\n",
    "for model_name, model_params in best_models.items():\n",
    "    print(model_name, \" amb paràmetres \", model_params['params'], \" té un score de \", model_params['score'])"
   ]
  },
  {
   "cell_type": "code",
   "execution_count": 24,
   "id": "ec80c944",
   "metadata": {},
   "outputs": [
    {
     "name": "stdout",
     "output_type": "stream",
     "text": [
      "Test MAE Score for MLPRegressor: 153.19488619331653\n",
      "Train MAE Score for MLPRegressor: 45.63542342558591\n"
     ]
    }
   ],
   "source": [
    "#Score segons la nostra mètrica escollida\n",
    "for model_name, model_params in best_models.items():\n",
    "    Y_test_pred_norm = model_params['model'].predict(X_test_norm)\n",
    "    Y_train_pred_norm = model_params['model'].predict(X_train_norm)\n",
    "    \n",
    "    Y_test_pred = sc.inverse_transform(Y_test_pred_norm)\n",
    "    Y_train_pred = sc.inverse_transform(Y_train_pred_norm)\n",
    "    \n",
    "    mae = mean_absolute_error(Y_test, Y_test_pred)\n",
    "    print(f\"Test MAE Score for {model_name}: {mae}\")\n",
    "\n",
    "    mae = mean_absolute_error(Y_train, Y_train_pred)\n",
    "    print(f\"Train MAE Score for {model_name}: {mae}\")\n",
    "    "
   ]
  },
  {
   "cell_type": "code",
   "execution_count": 25,
   "id": "32583a4e",
   "metadata": {},
   "outputs": [
    {
     "name": "stdout",
     "output_type": "stream",
     "text": [
      "1.137471801775172\n"
     ]
    }
   ],
   "source": [
    "mean_rel_err = 0\n",
    "cnt = 0\n",
    "for real, pred in zip(np.array(Y_test),np.array(Y_test_pred)):\n",
    "    if (real != 0):\n",
    "        mean_rel_err += abs(real - pred)/ real\n",
    "        cnt +=1\n",
    "    \n",
    "mean_rel_err = mean_rel_err / cnt\n",
    "print(mean_rel_err)"
   ]
  },
  {
   "cell_type": "code",
   "execution_count": 26,
   "id": "269b620b",
   "metadata": {},
   "outputs": [
    {
     "data": {
      "image/png": "[encoded data removed]",
      "text/plain": [
       "<Figure size 432x288 with 1 Axes>"
      ]
     },
     "metadata": {
      "needs_background": "light"
     },
     "output_type": "display_data"
    },
    {
     "data": {
      "image/png": "[encoded data removed]",
      "text/plain": [
       "<Figure size 432x288 with 1 Axes>"
      ]
     },
     "metadata": {
      "needs_background": "light"
     },
     "output_type": "display_data"
    },
    {
     "data": {
      "image/png": "[encoded data removed]",
      "text/plain": [
       "<Figure size 432x288 with 1 Axes>"
      ]
     },
     "metadata": {
      "needs_background": "light"
     },
     "output_type": "display_data"
    }
   ],
   "source": [
    "#for i in range(0,180,60):\n",
    "x = np.arange(0,60)\n",
    "plt.scatter(x/4, Y_test[x+1911])\n",
    "plt.scatter(x/4,Y_test_pred[x])\n",
    "plt.plot(x/4, Y_test[x+1911], linestyle='-', color='red', alpha=0.7, label='Connected')\n",
    "plt.xlabel('Hours')\n",
    "plt.ylabel('AC power generation (kW)')\n",
    "\n",
    "plt.show()\n",
    "\n",
    "\n",
    "x = np.arange(60,120)\n",
    "plt.scatter(x/4, Y_test[x+1911])\n",
    "plt.scatter(x/4,Y_test_pred[x])\n",
    "plt.plot(x/4, Y_test[x+1911], linestyle='-', color='red', alpha=0.7, label='Connected')\n",
    "plt.xlabel('Hours')\n",
    "plt.ylabel('AC power generation (kW)')\n",
    "\n",
    "plt.show()\n",
    "\n",
    "x = np.arange(120,180)\n",
    "plt.scatter(x/4, Y_test[x+1911])\n",
    "plt.scatter(x/4,Y_test_pred[x])\n",
    "plt.plot(x/4, Y_test[x+1911], linestyle='-', color='red', alpha=0.7, label='Connected')\n",
    "plt.xlabel('Hours')\n",
    "plt.ylabel('AC power generation (kW)')\n",
    "\n",
    "plt.show()"
   ]
  },
  {
   "cell_type": "code",
   "execution_count": null,
   "id": "193a5885",
   "metadata": {},
   "outputs": [],
   "source": []
  }
 ],
 "metadata": {
  "kernelspec": {
   "display_name": "Python 3",
   "language": "python",
   "name": "python3"
  },
  "language_info": {
   "codemirror_mode": {
    "name": "ipython",
    "version": 3
   },
   "file_extension": ".py",
   "mimetype": "text/x-python",
   "name": "python",
   "nbconvert_exporter": "python",
   "pygments_lexer": "ipython3",
   "version": "3.8.8"
  }
 },
 "nbformat": 4,
 "nbformat_minor": 5
}
